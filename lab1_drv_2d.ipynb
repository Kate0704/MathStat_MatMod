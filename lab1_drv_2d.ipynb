{
 "cells": [
  {
   "cell_type": "markdown",
   "metadata": {
    "pycharm": {
     "is_executing": false
    }
   },
   "source": [
    "# Two-dimensional discrete random value (DRV) generation \n",
    "## Katerina Zhevniak 853502"
   ]
  },
  {
   "cell_type": "code",
   "execution_count": 1,
   "metadata": {},
   "outputs": [],
   "source": [
    "import numpy as np\n",
    "from matplotlib import pyplot as plt"
   ]
  },
  {
   "cell_type": "code",
   "execution_count": 2,
   "metadata": {
    "pycharm": {
     "is_executing": false,
     "name": "#%%\n"
    }
   },
   "outputs": [],
   "source": [
    "class Randomizer:\n",
    "    def __init__(self):\n",
    "        self.k = 5 ** 16\n",
    "        self.m = 1 << 35\n",
    "        self.A = 10\n",
    "\n",
    "    def next(self):\n",
    "        self.A = (self.A * self.k) % self.m\n",
    "        return self.A / self.m"
   ]
  },
  {
   "cell_type": "code",
   "execution_count": 3,
   "metadata": {
    "pycharm": {
     "is_executing": false
    }
   },
   "outputs": [],
   "source": [
    "class DRV2D:\n",
    "    def __init__(self, n, m, x, y):\n",
    "        self.generator = Randomizer()\n",
    "        self.n = n\n",
    "        self.m = m\n",
    "        self.x = x\n",
    "        self.y = y\n",
    "        self.theor = np.array([[1 / (n * m)] * m] * n)\n",
    "        self.x_prob_t = [np.sum(self.theor[i, :]) for i in range(self.n)]\n",
    "        self.y_prob_t = [np.sum(self.theor[:, i]) for i in range(self.m)]\n",
    "        \n",
    "    def get_distribution(self, exp_count):\n",
    "        Z = np.zeros((self.n, self.m))\n",
    "        \n",
    "        for i in range(exp_count):\n",
    "            x = self._next(self.generator, self.x_prob_t)\n",
    "            y = self._next(self.generator, self.theor[x, :], self.x_prob_t[x])\n",
    "            Z[x][y] += 1\n",
    "\n",
    "        self.emp = np.array(Z) / np.sum(Z)\n",
    "        self.total = exp_count\n",
    "        self.x_emp = [np.sum(self.emp[i, :]) for i in range(n)]\n",
    "        self.y_emp = [np.sum(self.emp[:, i]) for i in range(m)]\n",
    "    \n",
    "    @staticmethod\n",
    "    def _next(gen, probabilities, max_prob=1):\n",
    "        cur_prob = 0\n",
    "        gen_prob = gen.next() * max_prob\n",
    "        for i in range(len(probabilities)):\n",
    "            cur_prob += probabilities[i]\n",
    "            if cur_prob >= gen_prob:\n",
    "                return i"
   ]
  },
  {
   "cell_type": "code",
   "execution_count": 4,
   "metadata": {
    "pycharm": {
     "is_executing": false
    }
   },
   "outputs": [],
   "source": [
    "n = 5\n",
    "m = 5"
   ]
  },
  {
   "cell_type": "code",
   "execution_count": 5,
   "metadata": {
    "pycharm": {
     "is_executing": false
    }
   },
   "outputs": [],
   "source": [
    "def observe(n, m, x, y):\n",
    "    def decorator(func):\n",
    "        def inner(*args, **kwargs):\n",
    "            dis = DRV2D(n, m, x, y)\n",
    "            size = 100\n",
    "            \n",
    "            for exp_size in [size, size * 10, size * 100, size * 1000]:\n",
    "                print('#' + '-' * 50)\n",
    "                print('# n =', exp_size)\n",
    "                print('#' + '-' * 50)\n",
    "                dis.get_distribution(exp_size)\n",
    "                func(dis)\n",
    "        return inner\n",
    "    return decorator"
   ]
  },
  {
   "cell_type": "code",
   "execution_count": 6,
   "metadata": {
    "pycharm": {
     "is_executing": false
    }
   },
   "outputs": [
    {
     "name": "stdout",
     "output_type": "stream",
     "text": [
      "[[0.051 0.029 0.049 0.032 0.032]\n",
      " [0.043 0.032 0.043 0.045 0.04 ]\n",
      " [0.046 0.039 0.039 0.039 0.034]\n",
      " [0.057 0.033 0.037 0.037 0.034]\n",
      " [0.037 0.048 0.046 0.04  0.038]]\n",
      "[0.193, 0.20299999999999999, 0.197, 0.198, 0.20900000000000002]\n",
      "[0.234, 0.181, 0.21400000000000002, 0.193, 0.17800000000000002]\n"
     ]
    }
   ],
   "source": [
    "x = np.arange(n)\n",
    "y = np.arange(m)\n",
    "\n",
    "dis = DRV2D(n, m, x, y)\n",
    "dis.get_distribution(1000)\n",
    "print(dis.emp)\n",
    "print(dis.x_emp)\n",
    "print(dis.y_emp)\n"
   ]
  },
  {
   "cell_type": "code",
   "execution_count": 7,
   "metadata": {
    "pycharm": {
     "is_executing": false
    }
   },
   "outputs": [],
   "source": [
    "def autolabel(bars):\n",
    "    for bar in bars:\n",
    "        height = bar.get_height()\n",
    "        plt.annotate('{0:.3f}'.format(height),\n",
    "                    xy=(bar.get_x() + bar.get_width() / 2, height),\n",
    "                    xytext=(0, 3),  \n",
    "                    textcoords='offset points', \n",
    "                    ha='center', \n",
    "                    va='bottom',\n",
    "                    rotation=90)\n",
    "\n",
    "def plot_distr(n, emp, theor, title):\n",
    "    xrange = np.arange(n)\n",
    "\n",
    "    width = 0.425\n",
    "\n",
    "    fig, ax = plt.subplots()\n",
    "\n",
    "    rects_pract = ax.bar(xrange - width / 2, emp, width, label='Practical', color='Yellow')\n",
    "    rects_theor = ax.bar(xrange + width / 2, theor, width, label='Theoretical', color='Green')\n",
    "\n",
    "    autolabel(rects_pract)\n",
    "    autolabel(rects_theor)\n",
    "\n",
    "    ax.set_ylim((0, ax.get_ylim()[1] * 1.25))\n",
    "    fig.tight_layout()\n",
    "\n",
    "    ax.set_title(title)\n",
    "    ax.set_xticks(xrange)\n",
    "    ax.legend()\n",
    "    plt.show()"
   ]
  },
  {
   "cell_type": "code",
   "execution_count": 8,
   "metadata": {
    "pycharm": {
     "is_executing": false
    }
   },
   "outputs": [],
   "source": [
    "@observe(n, m, x, y)\n",
    "def plot_distributions(dis):\n",
    "    plot_distr(dis.n, dis.x_emp, dis.x_prob_t, 'X')\n",
    "    plot_distr(dis.m, dis.y_emp, dis.y_prob_t, 'Y')"
   ]
  },
  {
   "cell_type": "code",
   "execution_count": 9,
   "metadata": {
    "pycharm": {
     "is_executing": false
    },
    "scrolled": false
   },
   "outputs": [
    {
     "name": "stdout",
     "output_type": "stream",
     "text": [
      "#--------------------------------------------------\n",
      "# n = 100\n",
      "#--------------------------------------------------\n"
     ]
    },
    {
     "data": {
      "image/png": "[encoded data removed]",
      "text/plain": [
       "<Figure size 432x288 with 1 Axes>"
      ]
     },
     "metadata": {
      "needs_background": "light"
     },
     "output_type": "display_data"
    },
    {
     "data": {
      "image/png": "[encoded data removed]",
      "text/plain": [
       "<Figure size 432x288 with 1 Axes>"
      ]
     },
     "metadata": {
      "needs_background": "light"
     },
     "output_type": "display_data"
    },
    {
     "name": "stdout",
     "output_type": "stream",
     "text": [
      "#--------------------------------------------------\n",
      "# n = 1000\n",
      "#--------------------------------------------------\n"
     ]
    },
    {
     "data": {
      "image/png": "[encoded data removed]",
      "text/plain": [
       "<Figure size 432x288 with 1 Axes>"
      ]
     },
     "metadata": {
      "needs_background": "light"
     },
     "output_type": "display_data"
    },
    {
     "data": {
      "image/png": "[encoded data removed]",
      "text/plain": [
       "<Figure size 432x288 with 1 Axes>"
      ]
     },
     "metadata": {
      "needs_background": "light"
     },
     "output_type": "display_data"
    },
    {
     "name": "stdout",
     "output_type": "stream",
     "text": [
      "#--------------------------------------------------\n",
      "# n = 10000\n",
      "#--------------------------------------------------\n"
     ]
    },
    {
     "data": {
      "image/png": "[encoded data removed]",
      "text/plain": [
       "<Figure size 432x288 with 1 Axes>"
      ]
     },
     "metadata": {
      "needs_background": "light"
     },
     "output_type": "display_data"
    },
    {
     "data": {
      "image/png": "[encoded data removed]",
      "text/plain": [
       "<Figure size 432x288 with 1 Axes>"
      ]
     },
     "metadata": {
      "needs_background": "light"
     },
     "output_type": "display_data"
    },
    {
     "name": "stdout",
     "output_type": "stream",
     "text": [
      "#--------------------------------------------------\n",
      "# n = 100000\n",
      "#--------------------------------------------------\n"
     ]
    },
    {
     "data": {
      "image/png": "[encoded data removed]",
      "text/plain": [
       "<Figure size 432x288 with 1 Axes>"
      ]
     },
     "metadata": {
      "needs_background": "light"
     },
     "output_type": "display_data"
    },
    {
     "data": {
      "image/png": "[encoded data removed]",
      "text/plain": [
       "<Figure size 432x288 with 1 Axes>"
      ]
     },
     "metadata": {
      "needs_background": "light"
     },
     "output_type": "display_data"
    }
   ],
   "source": [
    "plot_distributions()"
   ]
  },
  {
   "cell_type": "markdown",
   "metadata": {},
   "source": [
    "### Точечные оценки компонент"
   ]
  },
  {
   "cell_type": "markdown",
   "metadata": {},
   "source": [
    "#### Матожидание"
   ]
  },
  {
   "cell_type": "code",
   "execution_count": 10,
   "metadata": {
    "pycharm": {
     "is_executing": false
    }
   },
   "outputs": [],
   "source": [
    "def get_expectation(mat, vals, axis=0):\n",
    "    n, m = mat.shape\n",
    "    res = 0\n",
    "    for i in range(n):\n",
    "        for j in range(m):\n",
    "            val_id = j if axis else i\n",
    "            res += mat[i, j] * vals[val_id]   \n",
    "    return res"
   ]
  },
  {
   "cell_type": "code",
   "execution_count": 11,
   "metadata": {
    "pycharm": {
     "is_executing": false
    }
   },
   "outputs": [],
   "source": [
    "@observe(n, m, x, y)\n",
    "def get_expectations(dis):\n",
    "    m_x = get_expectation(dis.emp, dis.x)\n",
    "    m_y = get_expectation(dis.emp, dis.y, 1)\n",
    "    \n",
    "    print('Empirical M[X]: {:.6}'.format(m_x))\n",
    "    print('Empirical M[Y]: {:.6}'.format(m_y))"
   ]
  },
  {
   "cell_type": "code",
   "execution_count": 12,
   "metadata": {
    "pycharm": {
     "is_executing": false
    }
   },
   "outputs": [
    {
     "name": "stdout",
     "output_type": "stream",
     "text": [
      "Theoretical M[X]: 2.0, Theoretical M[Y]: 2.0\n",
      "#--------------------------------------------------\n",
      "# n = 100\n",
      "#--------------------------------------------------\n",
      "Empirical M[X]: 2.02\n",
      "Empirical M[Y]: 1.83\n",
      "#--------------------------------------------------\n",
      "# n = 1000\n",
      "#--------------------------------------------------\n",
      "Empirical M[X]: 2.026\n",
      "Empirical M[Y]: 1.935\n",
      "#--------------------------------------------------\n",
      "# n = 10000\n",
      "#--------------------------------------------------\n",
      "Empirical M[X]: 2.0035\n",
      "Empirical M[Y]: 1.9987\n",
      "#--------------------------------------------------\n",
      "# n = 100000\n",
      "#--------------------------------------------------\n",
      "Empirical M[X]: 2.00164\n",
      "Empirical M[Y]: 2.00693\n"
     ]
    }
   ],
   "source": [
    "m_xt = get_expectation(dis.theor, dis.x)\n",
    "m_yt = get_expectation(dis.theor, dis.y, 1)\n",
    "print('Theoretical M[X]: {:.6}, Theoretical M[Y]: {:.6}'.format(m_xt, m_yt))\n",
    "get_expectations()"
   ]
  },
  {
   "cell_type": "markdown",
   "metadata": {},
   "source": [
    "#### Дисперсия"
   ]
  },
  {
   "cell_type": "code",
   "execution_count": 13,
   "metadata": {
    "pycharm": {
     "is_executing": false
    }
   },
   "outputs": [],
   "source": [
    "def get_dispersion(mat, vals, axis=0):\n",
    "    n, m = mat.shape\n",
    "    e_x = get_expectation(mat, vals, axis)\n",
    "    res = 0\n",
    "    for i in range(n):\n",
    "        for j in range(m):\n",
    "            val_id = j if axis else i\n",
    "            res += mat[i, j] * (vals[val_id] - e_x)**2\n",
    "    return res"
   ]
  },
  {
   "cell_type": "code",
   "execution_count": 14,
   "metadata": {
    "pycharm": {
     "is_executing": false
    }
   },
   "outputs": [],
   "source": [
    "@observe(n, m, x, y)\n",
    "def get_dispersions(dis):\n",
    "    d_x = get_dispersion(dis.emp, dis.x)\n",
    "    d_y = get_dispersion(dis.emp, dis.y, 1)\n",
    "    \n",
    "    print('Empirical D[X]: {:.6}'.format(d_x))\n",
    "    print('Empirical D[Y]: {:.6}'.format(d_y))"
   ]
  },
  {
   "cell_type": "code",
   "execution_count": 15,
   "metadata": {
    "pycharm": {
     "is_executing": false
    }
   },
   "outputs": [
    {
     "name": "stdout",
     "output_type": "stream",
     "text": [
      "Theoretical D[X]: 2.0, Theoretical D[Y]: 2.0\n",
      "#--------------------------------------------------\n",
      "# n = 100\n",
      "#--------------------------------------------------\n",
      "Empirical D[X]: 1.9596\n",
      "Empirical D[Y]: 1.7811\n",
      "#--------------------------------------------------\n",
      "# n = 1000\n",
      "#--------------------------------------------------\n",
      "Empirical D[X]: 2.02332\n",
      "Empirical D[Y]: 2.02077\n",
      "#--------------------------------------------------\n",
      "# n = 10000\n",
      "#--------------------------------------------------\n",
      "Empirical D[X]: 2.01689\n",
      "Empirical D[Y]: 1.9829\n",
      "#--------------------------------------------------\n",
      "# n = 100000\n",
      "#--------------------------------------------------\n",
      "Empirical D[X]: 1.99624\n",
      "Empirical D[Y]: 1.99394\n"
     ]
    }
   ],
   "source": [
    "d_x_t = get_dispersion(dis.theor, dis.x)\n",
    "d_y_t = get_dispersion(dis.theor, dis.y, 1)\n",
    "print('Theoretical D[X]: {:.6}, Theoretical D[Y]: {:.6}'.format(d_x_t, d_y_t))\n",
    "get_dispersions()"
   ]
  },
  {
   "cell_type": "markdown",
   "metadata": {},
   "source": [
    "#### Корелляция"
   ]
  },
  {
   "cell_type": "code",
   "execution_count": 16,
   "metadata": {
    "pycharm": {
     "is_executing": false
    }
   },
   "outputs": [],
   "source": [
    "def get_expectation_xy(mat, xvals, yvals):\n",
    "    n, m = mat.shape\n",
    "    res = 0\n",
    "    for i in range(n):\n",
    "        for j in range(m):\n",
    "            res += mat[i, j] * xvals[i] * yvals[j]\n",
    "    return res"
   ]
  },
  {
   "cell_type": "code",
   "execution_count": 17,
   "metadata": {
    "pycharm": {
     "is_executing": false
    }
   },
   "outputs": [],
   "source": [
    "@observe(n, m, x, y)\n",
    "def get_covariances(dis):\n",
    "    m_x = get_expectation(dis.emp, dis.x)\n",
    "    m_y = get_expectation(dis.emp, dis.y, 1)\n",
    "    m_xy = get_expectation_xy(dis.emp, dis.x, dis.y)\n",
    "    \n",
    "    d_x = get_dispersion(dis.emp, dis.x)\n",
    "    d_y = get_dispersion(dis.emp, dis.y, 1)\n",
    "\n",
    "    covariance = m_xy - m_x * m_y\n",
    "    r = covariance / (np.sqrt(d_x) * np.sqrt(d_y)) \n",
    "    \n",
    "    print('r = {:.6}'.format(r))"
   ]
  },
  {
   "cell_type": "code",
   "execution_count": 18,
   "metadata": {
    "pycharm": {
     "is_executing": false
    }
   },
   "outputs": [
    {
     "name": "stdout",
     "output_type": "stream",
     "text": [
      "#--------------------------------------------------\n",
      "# n = 100\n",
      "#--------------------------------------------------\n",
      "r = -0.13735\n",
      "#--------------------------------------------------\n",
      "# n = 1000\n",
      "#--------------------------------------------------\n",
      "r = 0.0221013\n",
      "#--------------------------------------------------\n",
      "# n = 10000\n",
      "#--------------------------------------------------\n",
      "r = 0.00705291\n",
      "#--------------------------------------------------\n",
      "# n = 100000\n",
      "#--------------------------------------------------\n",
      "r = -0.00561447\n"
     ]
    }
   ],
   "source": [
    "get_covariances()"
   ]
  },
  {
   "cell_type": "markdown",
   "metadata": {},
   "source": [
    "### Доверительные интервалы"
   ]
  },
  {
   "cell_type": "code",
   "execution_count": 19,
   "metadata": {
    "pycharm": {
     "is_executing": false,
     "name": "#%%\n"
    }
   },
   "outputs": [],
   "source": [
    "from scipy import stats\n",
    "\n",
    "def get_dispersion_borders(s, alpha, n):\n",
    "    l = s * (n - 1) / stats.norm.ppf(1 - alpha / 2, n - 1)\n",
    "    r = s * (n - 1) / stats.norm.ppf(alpha / 2, n - 1)\n",
    "    return l, r\n",
    "\n",
    "def get_exp_interval(s, val, n):\n",
    "    return s * stats.norm.ppf(val) / np.sqrt(n)"
   ]
  },
  {
   "cell_type": "markdown",
   "metadata": {},
   "source": [
    "#### 1. Доверительный интервал для матожидания"
   ]
  },
  {
   "cell_type": "code",
   "execution_count": 20,
   "metadata": {
    "pycharm": {
     "is_executing": false,
     "name": "#%%\n"
    }
   },
   "outputs": [],
   "source": [
    "@observe(n, m, x, y)\n",
    "def build_exp_intervals(dis):\n",
    "    for alpha in [0.01, 0.05, 0.1, 0.3]:\n",
    "        laplace_e = (1 - alpha)\n",
    "\n",
    "        m_x = get_expectation(dis.emp, dis.x)\n",
    "        m_y = get_expectation(dis.emp, dis.x, 1)\n",
    "        m_xy = get_expectation_xy(dis.emp, dis.x, dis.y)\n",
    "\n",
    "        d_x = get_dispersion(dis.emp, dis.x)\n",
    "        d_y = get_dispersion(dis.emp, dis.y, 1)\n",
    "\n",
    "        interval_len_x = get_exp_interval(d_x, laplace_e, n * m)\n",
    "        interval_len_y = get_exp_interval(d_y, laplace_e, n * m)\n",
    "\n",
    "        print(f'Interval for M(X) with alpha = {alpha} is ({m_x - interval_len_x}, {m_x + interval_len_x})')\n",
    "        print(f'Interval for M(Y) with alpha = {alpha} is ({m_y - interval_len_y}, {m_y + interval_len_y})')\n",
    "        print()"
   ]
  },
  {
   "cell_type": "code",
   "execution_count": 21,
   "metadata": {
    "pycharm": {
     "is_executing": false
    }
   },
   "outputs": [
    {
     "name": "stdout",
     "output_type": "stream",
     "text": [
      "#--------------------------------------------------\n",
      "# n = 100\n",
      "#--------------------------------------------------\n",
      "Interval for M(X) with alpha = 0.01 is (1.1082577412059136, 2.9317422587940865)\n",
      "Interval for M(Y) with alpha = 0.01 is (1.0013083603091721, 2.658691639690829)\n",
      "\n",
      "Interval for M(X) with alpha = 0.05 is (1.375348966525179, 2.6646510334748212)\n",
      "Interval for M(Y) with alpha = 0.05 is (1.244070241007347, 2.415929758992654)\n",
      "\n",
      "Interval for M(X) with alpha = 0.1 is (1.5177343104317602, 2.52226568956824)\n",
      "Interval for M(Y) with alpha = 0.1 is (1.373485701321703, 2.286514298678298)\n",
      "\n",
      "Interval for M(X) with alpha = 0.3 is (1.8144769510594647, 2.225523048940535)\n",
      "Interval for M(Y) with alpha = 0.3 is (1.6431980493631422, 2.0168019506368586)\n",
      "\n",
      "#--------------------------------------------------\n",
      "# n = 1000\n",
      "#--------------------------------------------------\n",
      "Interval for M(X) with alpha = 0.01 is (1.084608902820838, 2.9673910971791617)\n",
      "Interval for M(Y) with alpha = 0.01 is (0.9947948749670246, 2.875205125032976)\n",
      "\n",
      "Interval for M(X) with alpha = 0.05 is (1.3603856360204079, 2.6916143639795918)\n",
      "Interval for M(Y) with alpha = 0.05 is (1.2702241823994282, 2.5997758176005723)\n",
      "\n",
      "Interval for M(X) with alpha = 0.1 is (1.5074011920392074, 2.544598807960792)\n",
      "Interval for M(Y) with alpha = 0.1 is (1.4170545270273225, 2.452945472972678)\n",
      "\n",
      "Interval for M(X) with alpha = 0.3 is (1.8137935714051032, 2.2382064285948964)\n",
      "Interval for M(Y) with alpha = 0.3 is (1.723060910786482, 2.1469390892135185)\n",
      "\n",
      "#--------------------------------------------------\n",
      "# n = 10000\n",
      "#--------------------------------------------------\n",
      "Interval for M(X) with alpha = 0.01 is (1.0651034941216968, 2.9418965058783026)\n",
      "Interval for M(Y) with alpha = 0.01 is (1.0761177464184644, 2.9212822535815346)\n",
      "\n",
      "Interval for M(X) with alpha = 0.05 is (1.340002973851701, 2.666997026148299)\n",
      "Interval for M(Y) with alpha = 0.05 is (1.3463845045841105, 2.6510154954158884)\n",
      "\n",
      "Interval for M(X) with alpha = 0.1 is (1.4865508692919545, 2.5204491307080454)\n",
      "Interval for M(Y) with alpha = 0.1 is (1.490462713300751, 2.506937286699248)\n",
      "\n",
      "Interval for M(X) with alpha = 0.3 is (1.7919686059650866, 2.2150313940349133)\n",
      "Interval for M(Y) with alpha = 0.3 is (1.790733421917618, 2.206666578082381)\n",
      "\n",
      "#--------------------------------------------------\n",
      "# n = 100000\n",
      "#--------------------------------------------------\n",
      "Interval for M(X) with alpha = 0.01 is (1.072851515373991, 2.930428484626009)\n",
      "Interval for M(Y) with alpha = 0.01 is (1.0792094650530641, 2.934650534946936)\n",
      "\n",
      "Interval for M(X) with alpha = 0.05 is (1.3449363639465417, 2.6583436360534582)\n",
      "Interval for M(Y) with alpha = 0.05 is (1.3509814620651968, 2.6628785379348034)\n",
      "\n",
      "Interval for M(X) with alpha = 0.1 is (1.4899837899316677, 2.5132962100683325)\n",
      "Interval for M(Y) with alpha = 0.1 is (1.4958621080411005, 2.5179978919589)\n",
      "\n",
      "Interval for M(X) with alpha = 0.3 is (1.792274426187864, 2.211005573812136)\n",
      "Interval for M(Y) with alpha = 0.3 is (1.7978051611894954, 2.216054838810505)\n",
      "\n"
     ]
    }
   ],
   "source": [
    "build_exp_intervals()"
   ]
  },
  {
   "cell_type": "markdown",
   "metadata": {},
   "source": [
    "#### 2. Доверительный интервал для дисперсии"
   ]
  },
  {
   "cell_type": "code",
   "execution_count": 22,
   "metadata": {
    "pycharm": {
     "is_executing": false
    }
   },
   "outputs": [],
   "source": [
    "@observe(n, m, x, y)\n",
    "def build_dispersion_intervals(dis):\n",
    "    for alpha_e in [0.01, 0.05, 0.1, 0.3]:\n",
    "        laplace_e = (1 - alpha_e)\n",
    "        \n",
    "        d_x = get_dispersion(dis.emp, dis.x)\n",
    "        d_y = get_dispersion(dis.emp, dis.y, 1)\n",
    "\n",
    "        dx_l, dx_r = get_dispersion_borders(d_x, alpha_e, dis.total)\n",
    "        dy_l, dy_r = get_dispersion_borders(d_y, alpha_e, dis.total)\n",
    "        interval_len = get_exp_interval(d_x, laplace_e, dis.total)\n",
    "        print(f'Interval length = {interval_len}')\n",
    "\n",
    "        print(f'Interval for D(X) with alpha = {alpha_e} is ({dx_l}, {dx_r})')\n",
    "        print(f'Interval for D(Y) with alpha = {alpha_e} is ({dy_l}, {dy_r})')\n",
    "        print()"
   ]
  },
  {
   "cell_type": "code",
   "execution_count": 23,
   "metadata": {
    "pycharm": {
     "is_executing": false
    }
   },
   "outputs": [
    {
     "name": "stdout",
     "output_type": "stream",
     "text": [
      "#--------------------------------------------------\n",
      "# n = 100\n",
      "#--------------------------------------------------\n",
      "Interval length = 0.45587112939704316\n",
      "Interval for D(X) with alpha = 0.01 is (1.9099071238714656, 2.0119478197092775)\n",
      "Interval for D(Y) with alpha = 0.01 is (1.7359336488709263, 1.8286794558502726)\n",
      "\n",
      "Interval length = 0.3223255167374105\n",
      "Interval for D(X) with alpha = 0.05 is (1.9215577377752155, 1.999178977727222)\n",
      "Interval for D(Y) with alpha = 0.05 is (1.746523008140149, 1.81707372791894)\n",
      "\n",
      "Interval length = 0.2511328447841199\n",
      "Interval for D(X) with alpha = 0.1 is (1.9275739693464968, 1.9927082155125437)\n",
      "Interval for D(Y) with alpha = 0.1 is (1.7519912210670776, 1.8111923875532718)\n",
      "\n",
      "Interval length = 0.10276152447026765\n",
      "Interval for D(X) with alpha = 0.3 is (1.9392974482072516, 1.9803321450241507)\n",
      "Interval for D(Y) with alpha = 0.3 is (1.762646808023033, 1.7999436535530284)\n",
      "\n",
      "#--------------------------------------------------\n",
      "# n = 1000\n",
      "#--------------------------------------------------\n",
      "Interval length = 0.14884700180455315\n",
      "Interval for D(X) with alpha = 0.01 is (2.0181204626368845, 2.028554440411868)\n",
      "Interval for D(Y) with alpha = 0.01 is (2.015578018095496, 2.025998851060578)\n",
      "\n",
      "Interval length = 0.10524287167499238\n",
      "Interval for D(X) with alpha = 0.05 is (2.0193621610536447, 2.0273014151747235)\n",
      "Interval for D(Y) with alpha = 0.05 is (2.0168181522105106, 2.024747404394799)\n",
      "\n",
      "Interval length = 0.08199767125021826\n",
      "Interval for D(X) with alpha = 0.1 is (2.0199980729162443, 2.0266608974251548)\n",
      "Interval for D(Y) with alpha = 0.1 is (2.0174532629461837, 2.024107693574691)\n",
      "\n",
      "Interval length = 0.033552782424487906\n",
      "Interval for D(X) with alpha = 0.3 is (2.021227035848147, 2.025425319749062)\n",
      "Interval for D(Y) with alpha = 0.3 is (2.018680677620608, 2.0228736724893848)\n",
      "\n",
      "#--------------------------------------------------\n",
      "# n = 10000\n",
      "#--------------------------------------------------\n",
      "Interval length = 0.04691982529391515\n",
      "Interval for D(X) with alpha = 0.01 is (2.01636831599709, 2.017407451693296)\n",
      "Interval for D(Y) with alpha = 0.01 is (1.9823876297172098, 1.9834092534619459)\n",
      "\n",
      "Interval length = 0.03317485130741494\n",
      "Interval for D(X) with alpha = 0.05 is (2.0164924852089103, 2.017283169777916)\n",
      "Interval for D(Y) with alpha = 0.05 is (1.9825097063772876, 1.9832870659976356)\n",
      "\n",
      "Interval length = 0.025847456535402265\n",
      "Interval for D(X) with alpha = 0.1 is (2.01655602287847, 2.0172195862789124)\n",
      "Interval for D(Y) with alpha = 0.1 is (1.9825721732833366, 1.9832245540344795)\n",
      "\n",
      "Interval length = 0.010576569701745666\n",
      "Interval for D(X) with alpha = 0.3 is (2.0166787137808937, 2.0170968295583553)\n",
      "Interval for D(Y) with alpha = 0.3 is (1.9826927965471097, 1.9831038660617684)\n",
      "\n",
      "#--------------------------------------------------\n",
      "# n = 100000\n",
      "#--------------------------------------------------\n",
      "Interval length = 0.014685435379772353\n",
      "Interval for D(X) with alpha = 0.01 is (1.9961858915446637, 1.996288731904355)\n",
      "Interval for D(Y) with alpha = 0.01 is (1.9938906153676514, 1.9939933374783214)\n",
      "\n",
      "Interval length = 0.010383396188215986\n",
      "Interval for D(X) with alpha = 0.05 is (1.9961981852432578, 1.9962764370904658)\n",
      "Interval for D(Y) with alpha = 0.05 is (1.993902894930571, 1.993981056801389)\n",
      "\n",
      "Interval length = 0.008089995013927535\n",
      "Interval for D(X) with alpha = 0.1 is (1.996204475429935, 1.9962701464502681)\n",
      "Interval for D(Y) with alpha = 0.1 is (1.9939091778845974, 1.9939747733943636)\n",
      "\n",
      "Interval length = 0.0033103603843722576\n",
      "Interval for D(X) with alpha = 0.3 is (1.9962166207375194, 1.9962580004913586)\n",
      "Interval for D(Y) with alpha = 0.3 is (1.9939213092271322, 1.9939626414012528)\n",
      "\n"
     ]
    }
   ],
   "source": [
    "build_dispersion_intervals()"
   ]
  },
  {
   "cell_type": "markdown",
   "metadata": {},
   "source": [
    "### Критерий хи-квадрат"
   ]
  },
  {
   "cell_type": "code",
   "execution_count": 24,
   "metadata": {
    "pycharm": {
     "is_executing": false
    }
   },
   "outputs": [],
   "source": [
    "def get_emp_chi(theor, emp):\n",
    "    n, m = emp.shape\n",
    "    \n",
    "    chi_val = 0\n",
    "    for i in range(n):\n",
    "        for j in range(m):\n",
    "            chi_val += (theor[i, j] - emp[i, j]) ** 2 / theor[i, j]\n",
    "    \n",
    "    return chi_val"
   ]
  },
  {
   "cell_type": "code",
   "execution_count": 25,
   "metadata": {
    "pycharm": {
     "is_executing": false
    }
   },
   "outputs": [],
   "source": [
    "from scipy.stats import chi2\n",
    "from math import log10\n",
    "\n",
    "@observe(n, m, x, y)\n",
    "def build_chi_criteria(dis):\n",
    "    alpha = 0.05\n",
    "    n = dis.total\n",
    "    \n",
    "    emp_chi = get_emp_chi(dis.theor, dis.emp) * dis.n * dis.m\n",
    "    theor_chi = chi2.isf(alpha, 3 * log10(n) - 1)\n",
    "    \n",
    "    print(f'alpha = {alpha}')\n",
    "    if emp_chi < theor_chi:\n",
    "        print(True, ': {:.6}'.format(emp_chi), ' < {:.6}\\n'.format(theor_chi), sep='')\n",
    "    else:\n",
    "        print(False, ': {:.6}'.format(emp_chi), ' > {:.6}\\n'.format(theor_chi), sep='')"
   ]
  },
  {
   "cell_type": "code",
   "execution_count": 26,
   "metadata": {
    "pycharm": {
     "is_executing": false
    }
   },
   "outputs": [
    {
     "name": "stdout",
     "output_type": "stream",
     "text": [
      "#--------------------------------------------------\n",
      "# n = 100\n",
      "#--------------------------------------------------\n",
      "alpha = 0.05\n",
      "True: 10.125 < 11.0705\n",
      "\n",
      "#--------------------------------------------------\n",
      "# n = 1000\n",
      "#--------------------------------------------------\n",
      "alpha = 0.05\n",
      "True: 0.635 < 15.5073\n",
      "\n",
      "#--------------------------------------------------\n",
      "# n = 10000\n",
      "#--------------------------------------------------\n",
      "alpha = 0.05\n",
      "True: 0.041775 < 19.6751\n",
      "\n",
      "#--------------------------------------------------\n",
      "# n = 100000\n",
      "#--------------------------------------------------\n",
      "alpha = 0.05\n",
      "True: 0.00583225 < 23.6848\n",
      "\n"
     ]
    }
   ],
   "source": [
    "build_chi_criteria()"
   ]
  },
  {
   "cell_type": "code",
   "execution_count": null,
   "metadata": {
    "pycharm": {
     "is_executing": false
    }
   },
   "outputs": [],
   "source": []
  }
 ],
 "metadata": {
  "kernelspec": {
   "display_name": "PyCharm (MatMod)",
   "language": "python",
   "name": "pycharm-3360859b"
  },
  "language_info": {
   "codemirror_mode": {
    "name": "ipython",
    "version": 3
   },
   "file_extension": ".py",
   "mimetype": "text/x-python",
   "name": "python",
   "nbconvert_exporter": "python",
   "pygments_lexer": "ipython3",
   "version": "3.8.11"
  },
  "pycharm": {
   "stem_cell": {
    "cell_type": "raw",
    "metadata": {
     "collapsed": false
    },
    "source": []
   }
  }
 },
 "nbformat": 4,
 "nbformat_minor": 2
}
